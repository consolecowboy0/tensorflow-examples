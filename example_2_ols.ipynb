{
  "nbformat": 4,
  "nbformat_minor": 0,
  "metadata": {
    "colab": {
      "name": "example_2_ols.ipynb",
      "provenance": [],
      "collapsed_sections": [],
      "include_colab_link": true
    },
    "kernelspec": {
      "name": "python3",
      "display_name": "Python 3"
    }
  },
  "cells": [
    {
      "cell_type": "markdown",
      "metadata": {
        "id": "view-in-github",
        "colab_type": "text"
      },
      "source": [
        "<a href=\"https://colab.research.google.com/github/mtnman38/tensorflow-examples/blob/master/example_2_ols.ipynb\" target=\"_parent\"><img src=\"https://colab.research.google.com/assets/colab-badge.svg\" alt=\"Open In Colab\"/></a>"
      ]
    },
    {
      "cell_type": "markdown",
      "metadata": {
        "id": "7OnNmvsoxSvx",
        "colab_type": "text"
      },
      "source": [
        "# Example 2: Using TensorFlow to perform OLS regression\n",
        "\n",
        "---\n",
        "\n",
        "Dustin Landers\n",
        "---\n",
        "11/8/2019"
      ]
    },
    {
      "cell_type": "markdown",
      "metadata": {
        "id": "YsJ58n63yO9T",
        "colab_type": "text"
      },
      "source": [
        "First, we will make sure we have TensorFlow 2.0.0 installed. If not, go ahead an pip install that."
      ]
    },
    {
      "cell_type": "code",
      "metadata": {
        "id": "GgR_9nPKx80q",
        "colab_type": "code",
        "colab": {}
      },
      "source": [
        "#!pip install tensorflow==2.0.0"
      ],
      "execution_count": 0,
      "outputs": []
    },
    {
      "cell_type": "code",
      "metadata": {
        "id": "_4OOaBtr4NvG",
        "colab_type": "code",
        "colab": {
          "base_uri": "https://localhost:8080/",
          "height": 34
        },
        "outputId": "40fae91f-c922-4441-bc67-ed8431cb0443"
      },
      "source": [
        "import tensorflow as tf\n",
        "print(tf.__version__)"
      ],
      "execution_count": 2,
      "outputs": [
        {
          "output_type": "stream",
          "text": [
            "2.0.0\n"
          ],
          "name": "stdout"
        }
      ]
    },
    {
      "cell_type": "markdown",
      "metadata": {
        "id": "M7w5Lstqy9v0",
        "colab_type": "text"
      },
      "source": [
        "## Building out the model first in statsmodels"
      ]
    },
    {
      "cell_type": "markdown",
      "metadata": {
        "id": "rG2McnJkyTZE",
        "colab_type": "text"
      },
      "source": [
        "Next, we will download the famous good ole mtcars dataset and fit a model using statsmodels. This way we can see what the outcome should look like using a traditional solver for this problem. Then we will see if we can learn a bit about how to use TensorFlow by recreating the problem using the new execution methods of TensorFlow 2.0."
      ]
    },
    {
      "cell_type": "code",
      "metadata": {
        "id": "qhAoJNYLsx__",
        "colab_type": "code",
        "colab": {}
      },
      "source": [
        "import pandas as pd\n",
        "import numpy as np\n",
        "import statsmodels.api as sm\n",
        "import statsmodels.formula.api as smf\n",
        "import patsy"
      ],
      "execution_count": 0,
      "outputs": []
    },
    {
      "cell_type": "code",
      "metadata": {
        "id": "HDb1c2sPx4Qf",
        "colab_type": "code",
        "outputId": "40d5c888-42b8-4795-d23f-f4276d0181e6",
        "colab": {
          "base_uri": "https://localhost:8080/",
          "height": 499
        }
      },
      "source": [
        "mtcars = sm.datasets.get_rdataset('mtcars').data\n",
        "\n",
        "reg_model = smf.ols(formula='mpg ~ disp + hp', data=mtcars)\n",
        "fitted_model = reg_model.fit()\n",
        "fitted_model.summary()"
      ],
      "execution_count": 4,
      "outputs": [
        {
          "output_type": "stream",
          "text": [
            "/usr/local/lib/python3.6/dist-packages/statsmodels/datasets/utils.py:192: FutureWarning: `item` has been deprecated and will be removed in a future version\n",
            "  return dataset_meta[\"Title\"].item()\n"
          ],
          "name": "stderr"
        },
        {
          "output_type": "execute_result",
          "data": {
            "text/html": [
              "<table class=\"simpletable\">\n",
              "<caption>OLS Regression Results</caption>\n",
              "<tr>\n",
              "  <th>Dep. Variable:</th>           <td>mpg</td>       <th>  R-squared:         </th> <td>   0.748</td>\n",
              "</tr>\n",
              "<tr>\n",
              "  <th>Model:</th>                   <td>OLS</td>       <th>  Adj. R-squared:    </th> <td>   0.731</td>\n",
              "</tr>\n",
              "<tr>\n",
              "  <th>Method:</th>             <td>Least Squares</td>  <th>  F-statistic:       </th> <td>   43.09</td>\n",
              "</tr>\n",
              "<tr>\n",
              "  <th>Date:</th>             <td>Fri, 08 Nov 2019</td> <th>  Prob (F-statistic):</th> <td>2.06e-09</td>\n",
              "</tr>\n",
              "<tr>\n",
              "  <th>Time:</th>                 <td>16:57:11</td>     <th>  Log-Likelihood:    </th> <td> -80.309</td>\n",
              "</tr>\n",
              "<tr>\n",
              "  <th>No. Observations:</th>      <td>    32</td>      <th>  AIC:               </th> <td>   166.6</td>\n",
              "</tr>\n",
              "<tr>\n",
              "  <th>Df Residuals:</th>          <td>    29</td>      <th>  BIC:               </th> <td>   171.0</td>\n",
              "</tr>\n",
              "<tr>\n",
              "  <th>Df Model:</th>              <td>     2</td>      <th>                     </th>     <td> </td>   \n",
              "</tr>\n",
              "<tr>\n",
              "  <th>Covariance Type:</th>      <td>nonrobust</td>    <th>                     </th>     <td> </td>   \n",
              "</tr>\n",
              "</table>\n",
              "<table class=\"simpletable\">\n",
              "<tr>\n",
              "      <td></td>         <th>coef</th>     <th>std err</th>      <th>t</th>      <th>P>|t|</th>  <th>[0.025</th>    <th>0.975]</th>  \n",
              "</tr>\n",
              "<tr>\n",
              "  <th>Intercept</th> <td>   30.7359</td> <td>    1.332</td> <td>   23.083</td> <td> 0.000</td> <td>   28.013</td> <td>   33.459</td>\n",
              "</tr>\n",
              "<tr>\n",
              "  <th>disp</th>      <td>   -0.0303</td> <td>    0.007</td> <td>   -4.098</td> <td> 0.000</td> <td>   -0.045</td> <td>   -0.015</td>\n",
              "</tr>\n",
              "<tr>\n",
              "  <th>hp</th>        <td>   -0.0248</td> <td>    0.013</td> <td>   -1.856</td> <td> 0.074</td> <td>   -0.052</td> <td>    0.003</td>\n",
              "</tr>\n",
              "</table>\n",
              "<table class=\"simpletable\">\n",
              "<tr>\n",
              "  <th>Omnibus:</th>       <td> 3.082</td> <th>  Durbin-Watson:     </th> <td>   1.370</td>\n",
              "</tr>\n",
              "<tr>\n",
              "  <th>Prob(Omnibus):</th> <td> 0.214</td> <th>  Jarque-Bera (JB):  </th> <td>   2.788</td>\n",
              "</tr>\n",
              "<tr>\n",
              "  <th>Skew:</th>          <td> 0.680</td> <th>  Prob(JB):          </th> <td>   0.248</td>\n",
              "</tr>\n",
              "<tr>\n",
              "  <th>Kurtosis:</th>      <td> 2.508</td> <th>  Cond. No.          </th> <td>    733.</td>\n",
              "</tr>\n",
              "</table><br/><br/>Warnings:<br/>[1] Standard Errors assume that the covariance matrix of the errors is correctly specified."
            ],
            "text/plain": [
              "<class 'statsmodels.iolib.summary.Summary'>\n",
              "\"\"\"\n",
              "                            OLS Regression Results                            \n",
              "==============================================================================\n",
              "Dep. Variable:                    mpg   R-squared:                       0.748\n",
              "Model:                            OLS   Adj. R-squared:                  0.731\n",
              "Method:                 Least Squares   F-statistic:                     43.09\n",
              "Date:                Fri, 08 Nov 2019   Prob (F-statistic):           2.06e-09\n",
              "Time:                        16:57:11   Log-Likelihood:                -80.309\n",
              "No. Observations:                  32   AIC:                             166.6\n",
              "Df Residuals:                      29   BIC:                             171.0\n",
              "Df Model:                           2                                         \n",
              "Covariance Type:            nonrobust                                         \n",
              "==============================================================================\n",
              "                 coef    std err          t      P>|t|      [0.025      0.975]\n",
              "------------------------------------------------------------------------------\n",
              "Intercept     30.7359      1.332     23.083      0.000      28.013      33.459\n",
              "disp          -0.0303      0.007     -4.098      0.000      -0.045      -0.015\n",
              "hp            -0.0248      0.013     -1.856      0.074      -0.052       0.003\n",
              "==============================================================================\n",
              "Omnibus:                        3.082   Durbin-Watson:                   1.370\n",
              "Prob(Omnibus):                  0.214   Jarque-Bera (JB):                2.788\n",
              "Skew:                           0.680   Prob(JB):                        0.248\n",
              "Kurtosis:                       2.508   Cond. No.                         733.\n",
              "==============================================================================\n",
              "\n",
              "Warnings:\n",
              "[1] Standard Errors assume that the covariance matrix of the errors is correctly specified.\n",
              "\"\"\""
            ]
          },
          "metadata": {
            "tags": []
          },
          "execution_count": 4
        }
      ]
    },
    {
      "cell_type": "markdown",
      "metadata": {
        "id": "jtVspabxzEjz",
        "colab_type": "text"
      },
      "source": [
        "## Recreating the model in TensorFlow"
      ]
    },
    {
      "cell_type": "markdown",
      "metadata": {
        "id": "c_YjixtPy4Ga",
        "colab_type": "text"
      },
      "source": [
        "This bit is just for getting our data in to a good format for TensorFlow."
      ]
    },
    {
      "cell_type": "code",
      "metadata": {
        "id": "oYKFOPFQy2Sv",
        "colab_type": "code",
        "colab": {}
      },
      "source": [
        "X = patsy.dmatrix('1 + disp + hp', data=mtcars)"
      ],
      "execution_count": 0,
      "outputs": []
    },
    {
      "cell_type": "markdown",
      "metadata": {
        "id": "2E0Oc8qP5J7x",
        "colab_type": "text"
      },
      "source": [
        "This is just reshaping the y vector and assigning them to be TensorFlow constants."
      ]
    },
    {
      "cell_type": "code",
      "metadata": {
        "id": "C1IyNtDo46mE",
        "colab_type": "code",
        "colab": {}
      },
      "source": [
        "X = tf.constant(X)\n",
        "y = mtcars[\"mpg\"].values\n",
        "y = tf.constant(y.reshape((X.shape[0], 1)))"
      ],
      "execution_count": 0,
      "outputs": []
    },
    {
      "cell_type": "markdown",
      "metadata": {
        "id": "vPtbgsujzJ8k",
        "colab_type": "text"
      },
      "source": [
        "We will make an object from tf.Module to hold our trainable variables. As you can see, we initialize with just a column vector of ones."
      ]
    },
    {
      "cell_type": "code",
      "metadata": {
        "id": "F7YRoRXWs54w",
        "colab_type": "code",
        "colab": {}
      },
      "source": [
        "class MyRegression(tf.Module):\n",
        "  \n",
        "    def __init__(self, initialized_vector = [[1.0] for x in range(X.shape[1])]):\n",
        "        self.weights = tf.Variable(initialized_vector, dtype=tf.float64)\n",
        "        \n",
        "myreg = MyRegression()"
      ],
      "execution_count": 0,
      "outputs": []
    },
    {
      "cell_type": "markdown",
      "metadata": {
        "id": "AwPHR_7XzT6_",
        "colab_type": "text"
      },
      "source": [
        "We will create two functions for prediction and our loss function. Since this is ordinary least squares, our loss function is just the mean squared error (MSE). Using the tf.function decorator gives us a performance benefit during computation."
      ]
    },
    {
      "cell_type": "code",
      "metadata": {
        "id": "HYULmSOctBTh",
        "colab_type": "code",
        "colab": {}
      },
      "source": [
        "@tf.function\n",
        "def predict(X, weights):\n",
        "    return tf.matmul(X, weights)"
      ],
      "execution_count": 0,
      "outputs": []
    },
    {
      "cell_type": "code",
      "metadata": {
        "id": "I-c-ADPPtCLG",
        "colab_type": "code",
        "colab": {}
      },
      "source": [
        "@tf.function\n",
        "def mse(actual, predictions):\n",
        "    return tf.reduce_mean(tf.square(actual - predictions))"
      ],
      "execution_count": 0,
      "outputs": []
    },
    {
      "cell_type": "code",
      "metadata": {
        "id": "691_jMTotFFK",
        "colab_type": "code",
        "colab": {}
      },
      "source": [
        "adam_optimizer = tf.optimizers.Adam(learning_rate=.05)"
      ],
      "execution_count": 0,
      "outputs": []
    },
    {
      "cell_type": "markdown",
      "metadata": {
        "id": "HKurgkvVzpBr",
        "colab_type": "text"
      },
      "source": [
        "This is the training loop. Let's see if our coefficients are similar to what we got with the statsmodels."
      ]
    },
    {
      "cell_type": "code",
      "metadata": {
        "id": "8I1x7DAwtM1D",
        "colab_type": "code",
        "outputId": "d995133a-59aa-427b-d6ec-934a4af3711e",
        "colab": {
          "base_uri": "https://localhost:8080/",
          "height": 85
        }
      },
      "source": [
        "for epoch in range(5000):\n",
        "\n",
        "    with tf.GradientTape() as gradient_tape:\n",
        "        predictions = predict(X, myreg.trainable_variables)\n",
        "        loss = mse(y, predictions)\n",
        "\n",
        "    gradient = gradient_tape.gradient(loss, myreg.trainable_variables)\n",
        "    adam_optimizer.apply_gradients(zip(gradient,\n",
        "                                       myreg.trainable_variables))\n",
        "    \n",
        "print(myreg.trainable_variables)"
      ],
      "execution_count": 11,
      "outputs": [
        {
          "output_type": "stream",
          "text": [
            "(<tf.Variable 'Variable:0' shape=(3, 1) dtype=float64, numpy=\n",
            "array([[ 3.06296210e+01],\n",
            "       [-3.02806395e-02],\n",
            "       [-2.43431387e-02]])>,)\n"
          ],
          "name": "stdout"
        }
      ]
    }
  ]
}