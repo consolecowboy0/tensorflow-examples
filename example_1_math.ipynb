{
  "nbformat": 4,
  "nbformat_minor": 0,
  "metadata": {
    "colab": {
      "name": "example_1_math.ipynb",
      "provenance": [],
      "collapsed_sections": [],
      "include_colab_link": true
    },
    "kernelspec": {
      "name": "python3",
      "display_name": "Python 3"
    }
  },
  "cells": [
    {
      "cell_type": "markdown",
      "metadata": {
        "id": "view-in-github",
        "colab_type": "text"
      },
      "source": [
        "<a href=\"https://colab.research.google.com/github/mtnman38/tensorflow-examples/blob/master/example_1_math.ipynb\" target=\"_parent\"><img src=\"https://colab.research.google.com/assets/colab-badge.svg\" alt=\"Open In Colab\"/></a>"
      ]
    },
    {
      "cell_type": "markdown",
      "metadata": {
        "id": "rQr_Zynu0TBN",
        "colab_type": "text"
      },
      "source": [
        "# Example 1: Doing math\n",
        "\n",
        "---\n",
        "\n",
        "Dustin A. Landers\n",
        "---\n",
        "11/8/2019"
      ]
    },
    {
      "cell_type": "code",
      "metadata": {
        "id": "JNont-fK0SGA",
        "colab_type": "code",
        "outputId": "3ca1cf90-6745-46a4-e452-e237dd3b30f7",
        "colab": {
          "base_uri": "https://localhost:8080/",
          "height": 34
        }
      },
      "source": [
        "#!pip install tensorflow==2.0.0\n",
        "import tensorflow as tf\n",
        "print(tf.__version__)"
      ],
      "execution_count": 1,
      "outputs": [
        {
          "output_type": "stream",
          "text": [
            "2.0.0\n"
          ],
          "name": "stdout"
        }
      ]
    },
    {
      "cell_type": "markdown",
      "metadata": {
        "id": "L0acFyx11Aaq",
        "colab_type": "text"
      },
      "source": [
        "## Doing math in TensorFlow 2.0 involves linear algebra and multivariate calculus"
      ]
    },
    {
      "cell_type": "markdown",
      "metadata": {
        "id": "N4BD0PnD_aIw",
        "colab_type": "text"
      },
      "source": [
        "### Starting with linear algebra"
      ]
    },
    {
      "cell_type": "markdown",
      "metadata": {
        "id": "bKzK5Ktx9Erj",
        "colab_type": "text"
      },
      "source": [
        "Let's say we have three columns of data across 100 observations."
      ]
    },
    {
      "cell_type": "code",
      "metadata": {
        "id": "h3tTrSjj1PAd",
        "colab_type": "code",
        "colab": {
          "base_uri": "https://localhost:8080/",
          "height": 34
        },
        "outputId": "ffea78ac-2193-49ee-895e-5b4e33f01671"
      },
      "source": [
        "X = tf.constant(tf.ones((100, 3)))\n",
        "X.shape"
      ],
      "execution_count": 2,
      "outputs": [
        {
          "output_type": "execute_result",
          "data": {
            "text/plain": [
              "TensorShape([100, 3])"
            ]
          },
          "metadata": {
            "tags": []
          },
          "execution_count": 2
        }
      ]
    },
    {
      "cell_type": "markdown",
      "metadata": {
        "id": "raeSqthy9Yf7",
        "colab_type": "text"
      },
      "source": [
        "Let's say we have a coefficient for each column that we want to multiply."
      ]
    },
    {
      "cell_type": "code",
      "metadata": {
        "id": "l5PSKYDO9g5n",
        "colab_type": "code",
        "colab": {
          "base_uri": "https://localhost:8080/",
          "height": 34
        },
        "outputId": "1b184e10-5ad6-438f-fc5f-76912613382e"
      },
      "source": [
        "b = tf.constant(tf.ones((3, 1)))\n",
        "b.shape"
      ],
      "execution_count": 3,
      "outputs": [
        {
          "output_type": "execute_result",
          "data": {
            "text/plain": [
              "TensorShape([3, 1])"
            ]
          },
          "metadata": {
            "tags": []
          },
          "execution_count": 3
        }
      ]
    },
    {
      "cell_type": "markdown",
      "metadata": {
        "id": "fYe3kI6d9olL",
        "colab_type": "text"
      },
      "source": [
        "This would be easy to do with matrix multiplication like so. This is basically just a linear model. We have 100 observations, three variables, three coefficients, and teh output is just 1 observations collected in a vector y."
      ]
    },
    {
      "cell_type": "code",
      "metadata": {
        "id": "L9MtoLNa9oPL",
        "colab_type": "code",
        "colab": {
          "base_uri": "https://localhost:8080/",
          "height": 34
        },
        "outputId": "2466656b-eb28-4faa-bb88-98923343a160"
      },
      "source": [
        "tf.matmul(X, b).shape"
      ],
      "execution_count": 4,
      "outputs": [
        {
          "output_type": "execute_result",
          "data": {
            "text/plain": [
              "TensorShape([100, 1])"
            ]
          },
          "metadata": {
            "tags": []
          },
          "execution_count": 4
        }
      ]
    },
    {
      "cell_type": "markdown",
      "metadata": {
        "id": "N6xYisPM1HQR",
        "colab_type": "text"
      },
      "source": [
        "To recreate a dense neural network with a hidden layer, we can use matrix multiplication. For example, taking our 100 observations across three variables with a hidden layer of two variables would look just like this."
      ]
    },
    {
      "cell_type": "code",
      "metadata": {
        "id": "SmGvCUgy1G89",
        "colab_type": "code",
        "colab": {
          "base_uri": "https://localhost:8080/",
          "height": 34
        },
        "outputId": "93151dad-a9ed-4da0-c63a-1a8b203b1c4e"
      },
      "source": [
        "input_layer = tf.constant(tf.ones((100, 3)))\n",
        "input_to_hidden_layer = tf.constant(tf.ones((3, 2)))\n",
        "hidden_to_output_layer = tf.constant(tf.ones((2, 1)))\n",
        "\n",
        "tf.matmul(\n",
        "    tf.matmul(input_layer, input_to_hidden_layer),\n",
        "    hidden_to_output_layer\n",
        "    ).shape"
      ],
      "execution_count": 5,
      "outputs": [
        {
          "output_type": "execute_result",
          "data": {
            "text/plain": [
              "TensorShape([100, 1])"
            ]
          },
          "metadata": {
            "tags": []
          },
          "execution_count": 5
        }
      ]
    },
    {
      "cell_type": "markdown",
      "metadata": {
        "id": "7kBmesjA_dbW",
        "colab_type": "text"
      },
      "source": [
        "### Now calculus in TensorFlow"
      ]
    },
    {
      "cell_type": "markdown",
      "metadata": {
        "id": "FFgwnlqS_oVT",
        "colab_type": "text"
      },
      "source": [
        "Use tf.GradientTape() to allow TensorFlow to follow your operations. This way it can complete backpropogation."
      ]
    },
    {
      "cell_type": "code",
      "metadata": {
        "id": "jX7orS-X_Law",
        "colab_type": "code",
        "colab": {}
      },
      "source": [
        "x = tf.Variable(1.0)"
      ],
      "execution_count": 0,
      "outputs": []
    },
    {
      "cell_type": "code",
      "metadata": {
        "id": "ZP1DlX6l_wnt",
        "colab_type": "code",
        "colab": {}
      },
      "source": [
        "with tf.GradientTape(persistent=True) as tape:\n",
        "  y = tf.square(x)\n",
        "  z = tf.square(y)\n",
        "\n",
        "dy_dx = tape.gradient(y, x)\n",
        "dz_dx = tape.gradient(z, x)"
      ],
      "execution_count": 0,
      "outputs": []
    },
    {
      "cell_type": "code",
      "metadata": {
        "id": "ZqmN7JcUAGSg",
        "colab_type": "code",
        "colab": {
          "base_uri": "https://localhost:8080/",
          "height": 51
        },
        "outputId": "b6610694-0307-4ea0-ad0c-1648d23bd745"
      },
      "source": [
        "print(dy_dx.numpy())\n",
        "print(dz_dx.numpy())"
      ],
      "execution_count": 8,
      "outputs": [
        {
          "output_type": "stream",
          "text": [
            "2.0\n",
            "4.0\n"
          ],
          "name": "stdout"
        }
      ]
    }
  ]
}